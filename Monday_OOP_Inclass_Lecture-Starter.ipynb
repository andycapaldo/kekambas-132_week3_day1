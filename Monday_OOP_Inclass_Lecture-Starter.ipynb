{
 "cells": [
  {
   "cell_type": "markdown",
   "metadata": {},
   "source": [
    "# Object-Oriented-Programming (OOP)"
   ]
  },
  {
   "cell_type": "markdown",
   "metadata": {},
   "source": [
    "## Tasks Today:\n",
    "\n",
    "   \n",
    "\n",
    "1) <b>Creating a Class (Initializing/Declaring)</b> <br>\n",
    "2) <b>Using a Class (Instantiating)</b> <br>\n",
    " &nbsp;&nbsp;&nbsp;&nbsp; a) Creating One Instance <br>\n",
    " &nbsp;&nbsp;&nbsp;&nbsp; b) Creating Multiple Instances <br>\n",
    " &nbsp;&nbsp;&nbsp;&nbsp; c) In-Class Exercise #1 - Create a Class 'Car' and instantiate three different makes of cars <br>\n",
    "3) <b>The \\__init\\__() Method</b> <br>\n",
    " &nbsp;&nbsp;&nbsp;&nbsp; a) The 'self' Attribute <br>\n",
    "4) <b>Class Attributes</b> <br>\n",
    " &nbsp;&nbsp;&nbsp;&nbsp; a) Initializing Attributes <br>\n",
    " &nbsp;&nbsp;&nbsp;&nbsp; b) Setting an Attribute Outside of the \\__init\\__() Method <br>\n",
    " &nbsp;&nbsp;&nbsp;&nbsp; c) Setting Defaults for Attributes <br>\n",
    " &nbsp;&nbsp;&nbsp;&nbsp; d) Accessing Class Attributes <br>\n",
    " &nbsp;&nbsp;&nbsp;&nbsp; e) Changing Class Attributes <br>\n",
    " &nbsp;&nbsp;&nbsp;&nbsp; f) In-Class Exercise #2 - Update your 'Car' class with \\__init\\__() method and class attributes<br>\n",
    "5) <b>Class Methods</b> <br>\n",
    " &nbsp;&nbsp;&nbsp;&nbsp; a) Creating <br>\n",
    " &nbsp;&nbsp;&nbsp;&nbsp; b) Calling <br>\n",
    " &nbsp;&nbsp;&nbsp;&nbsp; c) Modifying an Attribute's Value Through a Method <br>\n",
    " &nbsp;&nbsp;&nbsp;&nbsp; d) Incrementing an Attribute's Value Through a Method <br>\n",
    " &nbsp;&nbsp;&nbsp;&nbsp; e) In-Class Exercise #3 - Update Car class with new methods <br>\n",
    "6) <b>Classes as Attributes</b> <br>\n",
    "8) <b>Exercises</b> <br>\n",
    " &nbsp;&nbsp;&nbsp;&nbsp; a) Exercise #1 - Turn the shopping cart program from yesterday into an object-oriented program <br>\n",
    "  &nbsp;&nbsp;&nbsp;&nbsp; a) Exercise #2 - Create an Animal class with Eat, Sleep, and Play methods <br>"
   ]
  },
  {
   "cell_type": "code",
   "execution_count": 4,
   "metadata": {},
   "outputs": [
    {
     "name": "stdout",
     "output_type": "stream",
     "text": [
      "Help on class int in module builtins:\n",
      "\n",
      "class int(object)\n",
      " |  int([x]) -> integer\n",
      " |  int(x, base=10) -> integer\n",
      " |  \n",
      " |  Convert a number or string to an integer, or return 0 if no arguments\n",
      " |  are given.  If x is a number, return x.__int__().  For floating point\n",
      " |  numbers, this truncates towards zero.\n",
      " |  \n",
      " |  If x is not a number or if base is given, then x must be a string,\n",
      " |  bytes, or bytearray instance representing an integer literal in the\n",
      " |  given base.  The literal can be preceded by '+' or '-' and be surrounded\n",
      " |  by whitespace.  The base defaults to 10.  Valid bases are 0 and 2-36.\n",
      " |  Base 0 means to interpret the base from the string as an integer literal.\n",
      " |  >>> int('0b100', base=0)\n",
      " |  4\n",
      " |  \n",
      " |  Built-in subclasses:\n",
      " |      bool\n",
      " |  \n",
      " |  Methods defined here:\n",
      " |  \n",
      " |  __abs__(self, /)\n",
      " |      abs(self)\n",
      " |  \n",
      " |  __add__(self, value, /)\n",
      " |      Return self+value.\n",
      " |  \n",
      " |  __and__(self, value, /)\n",
      " |      Return self&value.\n",
      " |  \n",
      " |  __bool__(self, /)\n",
      " |      True if self else False\n",
      " |  \n",
      " |  __ceil__(...)\n",
      " |      Ceiling of an Integral returns itself.\n",
      " |  \n",
      " |  __divmod__(self, value, /)\n",
      " |      Return divmod(self, value).\n",
      " |  \n",
      " |  __eq__(self, value, /)\n",
      " |      Return self==value.\n",
      " |  \n",
      " |  __float__(self, /)\n",
      " |      float(self)\n",
      " |  \n",
      " |  __floor__(...)\n",
      " |      Flooring an Integral returns itself.\n",
      " |  \n",
      " |  __floordiv__(self, value, /)\n",
      " |      Return self//value.\n",
      " |  \n",
      " |  __format__(self, format_spec, /)\n",
      " |      Default object formatter.\n",
      " |  \n",
      " |  __ge__(self, value, /)\n",
      " |      Return self>=value.\n",
      " |  \n",
      " |  __getattribute__(self, name, /)\n",
      " |      Return getattr(self, name).\n",
      " |  \n",
      " |  __getnewargs__(self, /)\n",
      " |  \n",
      " |  __gt__(self, value, /)\n",
      " |      Return self>value.\n",
      " |  \n",
      " |  __hash__(self, /)\n",
      " |      Return hash(self).\n",
      " |  \n",
      " |  __index__(self, /)\n",
      " |      Return self converted to an integer, if self is suitable for use as an index into a list.\n",
      " |  \n",
      " |  __int__(self, /)\n",
      " |      int(self)\n",
      " |  \n",
      " |  __invert__(self, /)\n",
      " |      ~self\n",
      " |  \n",
      " |  __le__(self, value, /)\n",
      " |      Return self<=value.\n",
      " |  \n",
      " |  __lshift__(self, value, /)\n",
      " |      Return self<<value.\n",
      " |  \n",
      " |  __lt__(self, value, /)\n",
      " |      Return self<value.\n",
      " |  \n",
      " |  __mod__(self, value, /)\n",
      " |      Return self%value.\n",
      " |  \n",
      " |  __mul__(self, value, /)\n",
      " |      Return self*value.\n",
      " |  \n",
      " |  __ne__(self, value, /)\n",
      " |      Return self!=value.\n",
      " |  \n",
      " |  __neg__(self, /)\n",
      " |      -self\n",
      " |  \n",
      " |  __or__(self, value, /)\n",
      " |      Return self|value.\n",
      " |  \n",
      " |  __pos__(self, /)\n",
      " |      +self\n",
      " |  \n",
      " |  __pow__(self, value, mod=None, /)\n",
      " |      Return pow(self, value, mod).\n",
      " |  \n",
      " |  __radd__(self, value, /)\n",
      " |      Return value+self.\n",
      " |  \n",
      " |  __rand__(self, value, /)\n",
      " |      Return value&self.\n",
      " |  \n",
      " |  __rdivmod__(self, value, /)\n",
      " |      Return divmod(value, self).\n",
      " |  \n",
      " |  __repr__(self, /)\n",
      " |      Return repr(self).\n",
      " |  \n",
      " |  __rfloordiv__(self, value, /)\n",
      " |      Return value//self.\n",
      " |  \n",
      " |  __rlshift__(self, value, /)\n",
      " |      Return value<<self.\n",
      " |  \n",
      " |  __rmod__(self, value, /)\n",
      " |      Return value%self.\n",
      " |  \n",
      " |  __rmul__(self, value, /)\n",
      " |      Return value*self.\n",
      " |  \n",
      " |  __ror__(self, value, /)\n",
      " |      Return value|self.\n",
      " |  \n",
      " |  __round__(...)\n",
      " |      Rounding an Integral returns itself.\n",
      " |      \n",
      " |      Rounding with an ndigits argument also returns an integer.\n",
      " |  \n",
      " |  __rpow__(self, value, mod=None, /)\n",
      " |      Return pow(value, self, mod).\n",
      " |  \n",
      " |  __rrshift__(self, value, /)\n",
      " |      Return value>>self.\n",
      " |  \n",
      " |  __rshift__(self, value, /)\n",
      " |      Return self>>value.\n",
      " |  \n",
      " |  __rsub__(self, value, /)\n",
      " |      Return value-self.\n",
      " |  \n",
      " |  __rtruediv__(self, value, /)\n",
      " |      Return value/self.\n",
      " |  \n",
      " |  __rxor__(self, value, /)\n",
      " |      Return value^self.\n",
      " |  \n",
      " |  __sizeof__(self, /)\n",
      " |      Returns size in memory, in bytes.\n",
      " |  \n",
      " |  __sub__(self, value, /)\n",
      " |      Return self-value.\n",
      " |  \n",
      " |  __truediv__(self, value, /)\n",
      " |      Return self/value.\n",
      " |  \n",
      " |  __trunc__(...)\n",
      " |      Truncating an Integral returns itself.\n",
      " |  \n",
      " |  __xor__(self, value, /)\n",
      " |      Return self^value.\n",
      " |  \n",
      " |  as_integer_ratio(self, /)\n",
      " |      Return integer ratio.\n",
      " |      \n",
      " |      Return a pair of integers, whose ratio is exactly equal to the original int\n",
      " |      and with a positive denominator.\n",
      " |      \n",
      " |      >>> (10).as_integer_ratio()\n",
      " |      (10, 1)\n",
      " |      >>> (-10).as_integer_ratio()\n",
      " |      (-10, 1)\n",
      " |      >>> (0).as_integer_ratio()\n",
      " |      (0, 1)\n",
      " |  \n",
      " |  bit_count(self, /)\n",
      " |      Number of ones in the binary representation of the absolute value of self.\n",
      " |      \n",
      " |      Also known as the population count.\n",
      " |      \n",
      " |      >>> bin(13)\n",
      " |      '0b1101'\n",
      " |      >>> (13).bit_count()\n",
      " |      3\n",
      " |  \n",
      " |  bit_length(self, /)\n",
      " |      Number of bits necessary to represent self in binary.\n",
      " |      \n",
      " |      >>> bin(37)\n",
      " |      '0b100101'\n",
      " |      >>> (37).bit_length()\n",
      " |      6\n",
      " |  \n",
      " |  conjugate(...)\n",
      " |      Returns self, the complex conjugate of any int.\n",
      " |  \n",
      " |  to_bytes(self, /, length, byteorder, *, signed=False)\n",
      " |      Return an array of bytes representing an integer.\n",
      " |      \n",
      " |      length\n",
      " |        Length of bytes object to use.  An OverflowError is raised if the\n",
      " |        integer is not representable with the given number of bytes.\n",
      " |      byteorder\n",
      " |        The byte order used to represent the integer.  If byteorder is 'big',\n",
      " |        the most significant byte is at the beginning of the byte array.  If\n",
      " |        byteorder is 'little', the most significant byte is at the end of the\n",
      " |        byte array.  To request the native byte order of the host system, use\n",
      " |        `sys.byteorder' as the byte order value.\n",
      " |      signed\n",
      " |        Determines whether two's complement is used to represent the integer.\n",
      " |        If signed is False and a negative integer is given, an OverflowError\n",
      " |        is raised.\n",
      " |  \n",
      " |  ----------------------------------------------------------------------\n",
      " |  Class methods defined here:\n",
      " |  \n",
      " |  from_bytes(bytes, byteorder, *, signed=False) from builtins.type\n",
      " |      Return the integer represented by the given array of bytes.\n",
      " |      \n",
      " |      bytes\n",
      " |        Holds the array of bytes to convert.  The argument must either\n",
      " |        support the buffer protocol or be an iterable object producing bytes.\n",
      " |        Bytes and bytearray are examples of built-in objects that support the\n",
      " |        buffer protocol.\n",
      " |      byteorder\n",
      " |        The byte order used to represent the integer.  If byteorder is 'big',\n",
      " |        the most significant byte is at the beginning of the byte array.  If\n",
      " |        byteorder is 'little', the most significant byte is at the end of the\n",
      " |        byte array.  To request the native byte order of the host system, use\n",
      " |        `sys.byteorder' as the byte order value.\n",
      " |      signed\n",
      " |        Indicates whether two's complement is used to represent the integer.\n",
      " |  \n",
      " |  ----------------------------------------------------------------------\n",
      " |  Static methods defined here:\n",
      " |  \n",
      " |  __new__(*args, **kwargs) from builtins.type\n",
      " |      Create and return a new object.  See help(type) for accurate signature.\n",
      " |  \n",
      " |  ----------------------------------------------------------------------\n",
      " |  Data descriptors defined here:\n",
      " |  \n",
      " |  denominator\n",
      " |      the denominator of a rational number in lowest terms\n",
      " |  \n",
      " |  imag\n",
      " |      the imaginary part of a complex number\n",
      " |  \n",
      " |  numerator\n",
      " |      the numerator of a rational number in lowest terms\n",
      " |  \n",
      " |  real\n",
      " |      the real part of a complex number\n",
      "\n"
     ]
    }
   ],
   "source": [
    "help(int)"
   ]
  },
  {
   "cell_type": "markdown",
   "metadata": {},
   "source": [
    "#### Object-Oriented Programming"
   ]
  },
  {
   "cell_type": "markdown",
   "metadata": {},
   "source": [
    "Object-Oriented Programming (OOP) allows us to create programs so that that properties and behaviors are bundled into **objects**. OOP models real-world entities as software objects that have some data associated with them and can perform certain functions."
   ]
  },
  {
   "cell_type": "markdown",
   "metadata": {},
   "source": [
    "## Creating a Class (Initializing/Declaring)\n",
    "<p>When creating a class, function, or even a variable you are initializing that object. Initializing and Declaring occur at the same time in Python, whereas in lower level languages you have to declare an object before initializing it. This is the first step in the process of using a class.</p>"
   ]
  },
  {
   "cell_type": "code",
   "execution_count": null,
   "metadata": {},
   "outputs": [],
   "source": [
    "# snake_case\n",
    "# camelCase\n",
    "# PascalCase"
   ]
  },
  {
   "cell_type": "code",
   "execution_count": 5,
   "metadata": {
    "scrolled": true
   },
   "outputs": [
    {
     "name": "stdout",
     "output_type": "stream",
     "text": [
      "Help on class Student in module __main__:\n",
      "\n",
      "class Student(builtins.object)\n",
      " |  Data descriptors defined here:\n",
      " |  \n",
      " |  __dict__\n",
      " |      dictionary for instance variables (if defined)\n",
      " |  \n",
      " |  __weakref__\n",
      " |      list of weak references to the object (if defined)\n",
      "\n"
     ]
    }
   ],
   "source": [
    "# Syntax: class ClassName():   OR    class ClassName:b     *always capitalize our class names! Pascal Case - pep8 guideline\n",
    "\n",
    "class Student():\n",
    "    pass\n",
    "\n",
    "help(Student)"
   ]
  },
  {
   "cell_type": "code",
   "execution_count": 6,
   "metadata": {},
   "outputs": [
    {
     "name": "stdout",
     "output_type": "stream",
     "text": [
      "<class '__main__.Student'>\n"
     ]
    },
    {
     "data": {
      "text/plain": [
       "__main__.Student"
      ]
     },
     "execution_count": 6,
     "metadata": {},
     "output_type": "execute_result"
    }
   ],
   "source": [
    "print(Student)\n",
    "Student"
   ]
  },
  {
   "cell_type": "code",
   "execution_count": 7,
   "metadata": {},
   "outputs": [
    {
     "name": "stdout",
     "output_type": "stream",
     "text": [
      "Help on class Teacher in module __main__:\n",
      "\n",
      "class Teacher(builtins.object)\n",
      " |  Data descriptors defined here:\n",
      " |  \n",
      " |  __dict__\n",
      " |      dictionary for instance variables (if defined)\n",
      " |  \n",
      " |  __weakref__\n",
      " |      list of weak references to the object (if defined)\n",
      "\n"
     ]
    }
   ],
   "source": [
    "class Teacher:\n",
    "    pass\n",
    "help(Teacher)"
   ]
  },
  {
   "cell_type": "markdown",
   "metadata": {},
   "source": [
    "## Using a Class (Instantiating)\n",
    "<p>The process of creating a class is called <i>Instantiating</i>. Each time you create a variable of that type of class, it is referred to as an <i>Instance</i> of that class. This is the second step in the process of using a class.</p>"
   ]
  },
  {
   "cell_type": "code",
   "execution_count": 9,
   "metadata": {
    "scrolled": false
   },
   "outputs": [
    {
     "name": "stdout",
     "output_type": "stream",
     "text": [
      "Help on class list in module builtins:\n",
      "\n",
      "class list(object)\n",
      " |  list(iterable=(), /)\n",
      " |  \n",
      " |  Built-in mutable sequence.\n",
      " |  \n",
      " |  If no argument is given, the constructor creates a new empty list.\n",
      " |  The argument must be an iterable if specified.\n",
      " |  \n",
      " |  Methods defined here:\n",
      " |  \n",
      " |  __add__(self, value, /)\n",
      " |      Return self+value.\n",
      " |  \n",
      " |  __contains__(self, key, /)\n",
      " |      Return key in self.\n",
      " |  \n",
      " |  __delitem__(self, key, /)\n",
      " |      Delete self[key].\n",
      " |  \n",
      " |  __eq__(self, value, /)\n",
      " |      Return self==value.\n",
      " |  \n",
      " |  __ge__(self, value, /)\n",
      " |      Return self>=value.\n",
      " |  \n",
      " |  __getattribute__(self, name, /)\n",
      " |      Return getattr(self, name).\n",
      " |  \n",
      " |  __getitem__(...)\n",
      " |      x.__getitem__(y) <==> x[y]\n",
      " |  \n",
      " |  __gt__(self, value, /)\n",
      " |      Return self>value.\n",
      " |  \n",
      " |  __iadd__(self, value, /)\n",
      " |      Implement self+=value.\n",
      " |  \n",
      " |  __imul__(self, value, /)\n",
      " |      Implement self*=value.\n",
      " |  \n",
      " |  __init__(self, /, *args, **kwargs)\n",
      " |      Initialize self.  See help(type(self)) for accurate signature.\n",
      " |  \n",
      " |  __iter__(self, /)\n",
      " |      Implement iter(self).\n",
      " |  \n",
      " |  __le__(self, value, /)\n",
      " |      Return self<=value.\n",
      " |  \n",
      " |  __len__(self, /)\n",
      " |      Return len(self).\n",
      " |  \n",
      " |  __lt__(self, value, /)\n",
      " |      Return self<value.\n",
      " |  \n",
      " |  __mul__(self, value, /)\n",
      " |      Return self*value.\n",
      " |  \n",
      " |  __ne__(self, value, /)\n",
      " |      Return self!=value.\n",
      " |  \n",
      " |  __repr__(self, /)\n",
      " |      Return repr(self).\n",
      " |  \n",
      " |  __reversed__(self, /)\n",
      " |      Return a reverse iterator over the list.\n",
      " |  \n",
      " |  __rmul__(self, value, /)\n",
      " |      Return value*self.\n",
      " |  \n",
      " |  __setitem__(self, key, value, /)\n",
      " |      Set self[key] to value.\n",
      " |  \n",
      " |  __sizeof__(self, /)\n",
      " |      Return the size of the list in memory, in bytes.\n",
      " |  \n",
      " |  append(self, object, /)\n",
      " |      Append object to the end of the list.\n",
      " |  \n",
      " |  clear(self, /)\n",
      " |      Remove all items from list.\n",
      " |  \n",
      " |  copy(self, /)\n",
      " |      Return a shallow copy of the list.\n",
      " |  \n",
      " |  count(self, value, /)\n",
      " |      Return number of occurrences of value.\n",
      " |  \n",
      " |  extend(self, iterable, /)\n",
      " |      Extend list by appending elements from the iterable.\n",
      " |  \n",
      " |  index(self, value, start=0, stop=9223372036854775807, /)\n",
      " |      Return first index of value.\n",
      " |      \n",
      " |      Raises ValueError if the value is not present.\n",
      " |  \n",
      " |  insert(self, index, object, /)\n",
      " |      Insert object before index.\n",
      " |  \n",
      " |  pop(self, index=-1, /)\n",
      " |      Remove and return item at index (default last).\n",
      " |      \n",
      " |      Raises IndexError if list is empty or index is out of range.\n",
      " |  \n",
      " |  remove(self, value, /)\n",
      " |      Remove first occurrence of value.\n",
      " |      \n",
      " |      Raises ValueError if the value is not present.\n",
      " |  \n",
      " |  reverse(self, /)\n",
      " |      Reverse *IN PLACE*.\n",
      " |  \n",
      " |  sort(self, /, *, key=None, reverse=False)\n",
      " |      Sort the list in ascending order and return None.\n",
      " |      \n",
      " |      The sort is in-place (i.e. the list itself is modified) and stable (i.e. the\n",
      " |      order of two equal elements is maintained).\n",
      " |      \n",
      " |      If a key function is given, apply it once to each list item and sort them,\n",
      " |      ascending or descending, according to their function values.\n",
      " |      \n",
      " |      The reverse flag can be set to sort in descending order.\n",
      " |  \n",
      " |  ----------------------------------------------------------------------\n",
      " |  Class methods defined here:\n",
      " |  \n",
      " |  __class_getitem__(...) from builtins.type\n",
      " |      See PEP 585\n",
      " |  \n",
      " |  ----------------------------------------------------------------------\n",
      " |  Static methods defined here:\n",
      " |  \n",
      " |  __new__(*args, **kwargs) from builtins.type\n",
      " |      Create and return a new object.  See help(type) for accurate signature.\n",
      " |  \n",
      " |  ----------------------------------------------------------------------\n",
      " |  Data and other attributes defined here:\n",
      " |  \n",
      " |  __hash__ = None\n",
      "\n"
     ]
    }
   ],
   "source": [
    "help(list)"
   ]
  },
  {
   "cell_type": "code",
   "execution_count": 10,
   "metadata": {},
   "outputs": [
    {
     "name": "stdout",
     "output_type": "stream",
     "text": [
      "1928306019648 <class 'list'> True\n",
      "1928299323264 <class 'list'> True\n"
     ]
    }
   ],
   "source": [
    "# Create 2 instances of the list class\n",
    "\n",
    "a_list = [1, 2, 3, 4]\n",
    "b_list = [5, 6, 7, 8]\n",
    "\n",
    "print(id(a_list), type(a_list), isinstance(a_list, list))\n",
    "print(id(b_list), type(b_list), isinstance(b_list, list))"
   ]
  },
  {
   "cell_type": "code",
   "execution_count": 11,
   "metadata": {},
   "outputs": [
    {
     "name": "stdout",
     "output_type": "stream",
     "text": [
      "[1, 2, 3, 4, 1000]\n",
      "[5, 6, 7, 8]\n"
     ]
    }
   ],
   "source": [
    "a_list.append(1000)\n",
    "\n",
    "print(a_list)\n",
    "print(b_list)"
   ]
  },
  {
   "cell_type": "markdown",
   "metadata": {},
   "source": [
    "##### Creating One Instance"
   ]
  },
  {
   "cell_type": "code",
   "execution_count": 12,
   "metadata": {},
   "outputs": [
    {
     "name": "stdout",
     "output_type": "stream",
     "text": [
      "[] <class 'list'>\n"
     ]
    }
   ],
   "source": [
    "list_c = list()\n",
    "print(list_c, type(list_c))"
   ]
  },
  {
   "cell_type": "code",
   "execution_count": 14,
   "metadata": {},
   "outputs": [
    {
     "name": "stdout",
     "output_type": "stream",
     "text": [
      "<__main__.Student object at 0x000001C0F75BAAD0>\n",
      "<class '__main__.Student'>\n",
      "True\n"
     ]
    }
   ],
   "source": [
    "# Syntax: instance_var_name = ClassName()\n",
    "\n",
    "student1 = Student() # student1 is equal to an instance of Student (1 version of a student)\n",
    "\n",
    "print(student1)\n",
    "print(type(student1))\n",
    "print(isinstance(student1, Student))"
   ]
  },
  {
   "cell_type": "markdown",
   "metadata": {},
   "source": [
    "##### Creating Multiple Instances"
   ]
  },
  {
   "cell_type": "code",
   "execution_count": 15,
   "metadata": {},
   "outputs": [
    {
     "name": "stdout",
     "output_type": "stream",
     "text": [
      "<__main__.Student object at 0x000001C0F7D31090>\n",
      "<__main__.Student object at 0x000001C0F75B8FA0>\n"
     ]
    }
   ],
   "source": [
    "student2 = Student()\n",
    "print(student2)\n",
    "\n",
    "student3 = Student()\n",
    "print(student3)"
   ]
  },
  {
   "cell_type": "markdown",
   "metadata": {},
   "source": [
    "##### Adding attributes to instances"
   ]
  },
  {
   "cell_type": "code",
   "execution_count": 22,
   "metadata": {},
   "outputs": [
    {
     "name": "stdout",
     "output_type": "stream",
     "text": [
      "Student 1: {'first_name': 'John', 'last_name': 'Smith'}\n",
      "Student 2: {'first_name': 'Laura', 'last_name': 'Green'}\n"
     ]
    }
   ],
   "source": [
    "# Syntax: instance_var.attribute_name = value\n",
    "\n",
    "student1.first_name = 'John'\n",
    "student1.last_name = 'Smith'\n",
    "\n",
    "student2.first_name = 'Laura'\n",
    "student2.last_name = 'Green'\n",
    "\n",
    "print('Student 1:', student1.__dict__)\n",
    "print('Student 2:', student2.__dict__)"
   ]
  },
  {
   "cell_type": "markdown",
   "metadata": {},
   "source": [
    "#### Accessing attributes of instances"
   ]
  },
  {
   "cell_type": "code",
   "execution_count": 24,
   "metadata": {},
   "outputs": [
    {
     "name": "stdout",
     "output_type": "stream",
     "text": [
      "John\n",
      "Smith\n",
      "Laura\n",
      "Green\n"
     ]
    }
   ],
   "source": [
    "# Syntax: instance_var.attribute_name\n",
    "\n",
    "print(student1.first_name)\n",
    "print(student1.last_name)\n",
    "\n",
    "print(student2.first_name)\n",
    "print(student2.last_name)"
   ]
  },
  {
   "cell_type": "code",
   "execution_count": 25,
   "metadata": {
    "scrolled": true
   },
   "outputs": [
    {
     "ename": "AttributeError",
     "evalue": "'Student' object has no attribute 'middle_name'",
     "output_type": "error",
     "traceback": [
      "\u001b[1;31m---------------------------------------------------------------------------\u001b[0m",
      "\u001b[1;31mAttributeError\u001b[0m                            Traceback (most recent call last)",
      "Cell \u001b[1;32mIn[25], line 1\u001b[0m\n\u001b[1;32m----> 1\u001b[0m \u001b[38;5;28mprint\u001b[39m(\u001b[43mstudent1\u001b[49m\u001b[38;5;241;43m.\u001b[39;49m\u001b[43mmiddle_name\u001b[49m)\n",
      "\u001b[1;31mAttributeError\u001b[0m: 'Student' object has no attribute 'middle_name'"
     ]
    }
   ],
   "source": [
    "print(student1.middle_name)"
   ]
  },
  {
   "cell_type": "code",
   "execution_count": 26,
   "metadata": {},
   "outputs": [
    {
     "name": "stdout",
     "output_type": "stream",
     "text": [
      "Help on built-in function setattr in module builtins:\n",
      "\n",
      "setattr(obj, name, value, /)\n",
      "    Sets the named attribute on the given object to the specified value.\n",
      "    \n",
      "    setattr(x, 'y', v) is equivalent to ``x.y = v''\n",
      "\n"
     ]
    }
   ],
   "source": [
    "# setattr and getattr built in functions\n",
    "help(setattr)"
   ]
  },
  {
   "cell_type": "code",
   "execution_count": 28,
   "metadata": {},
   "outputs": [
    {
     "name": "stdout",
     "output_type": "stream",
     "text": [
      "{'first_name': 'John', 'last_name': 'Smith', 'middle_name': 'Elizabeth'}\n",
      "Elizabeth\n"
     ]
    }
   ],
   "source": [
    "setattr(student1, 'middle_name', 'Elizabeth')\n",
    "print(student1.__dict__)\n",
    "print(student1.middle_name)"
   ]
  },
  {
   "cell_type": "code",
   "execution_count": 29,
   "metadata": {},
   "outputs": [
    {
     "name": "stdout",
     "output_type": "stream",
     "text": [
      "Help on built-in function getattr in module builtins:\n",
      "\n",
      "getattr(...)\n",
      "    getattr(object, name[, default]) -> value\n",
      "    \n",
      "    Get a named attribute from an object; getattr(x, 'y') is equivalent to x.y.\n",
      "    When a default argument is given, it is returned when the attribute doesn't\n",
      "    exist; without it, an exception is raised in that case.\n",
      "\n"
     ]
    }
   ],
   "source": [
    "help(getattr)"
   ]
  },
  {
   "cell_type": "code",
   "execution_count": 30,
   "metadata": {},
   "outputs": [
    {
     "name": "stdout",
     "output_type": "stream",
     "text": [
      "No Middle Name\n"
     ]
    }
   ],
   "source": [
    "print(getattr(student2, 'middle_name', 'No Middle Name' ))"
   ]
  },
  {
   "cell_type": "markdown",
   "metadata": {},
   "source": [
    "##### In-Class Exercise #1 - Create a Class 'Car' and Instantiate three different car instances. Add a different make for each car."
   ]
  },
  {
   "cell_type": "code",
   "execution_count": 48,
   "metadata": {},
   "outputs": [
    {
     "name": "stdout",
     "output_type": "stream",
     "text": [
      "True\n",
      "Honda\n",
      "Mazda\n",
      "Tesla\n"
     ]
    }
   ],
   "source": [
    "# Create the Car Class\n",
    "\n",
    "class Car():\n",
    "    pass\n",
    "\n",
    "# Create 3 instances\n",
    "car1 = Car()\n",
    "car2 = Car()\n",
    "car3 = Car()\n",
    "\n",
    "# Set the make attribute for each\n",
    "car1.make = 'Honda'\n",
    "car2.make = 'Mazda'\n",
    "setattr(car3, 'make', 'Tesla')\n",
    "print(isinstance(car1, Car))\n",
    "\n",
    "# Add car instances to a list (if you want!)\n",
    "cars = [car1, car2, car3]\n",
    "\n",
    "\n",
    "print(car1.make)\n",
    "print(car2.make)\n",
    "print(getattr(car3, 'make'))\n"
   ]
  },
  {
   "cell_type": "markdown",
   "metadata": {},
   "source": [
    "## The \\__init\\__() Method <br>\n",
    "<p>This method is used in almost every created class, and called only once upon the creation of the class instance. This method will initialize all variables needed for the object.</p>"
   ]
  },
  {
   "cell_type": "code",
   "execution_count": 50,
   "metadata": {},
   "outputs": [],
   "source": [
    "class Car:\n",
    "    pass\n",
    "\n",
    "\n",
    "def create_car(make):\n",
    "    car_instance = Car()\n",
    "    car_instance.make = make\n",
    "    return car_instance"
   ]
  },
  {
   "cell_type": "code",
   "execution_count": 51,
   "metadata": {},
   "outputs": [
    {
     "name": "stdout",
     "output_type": "stream",
     "text": [
      "<__main__.Car object at 0x000001C0F7456EC0>\n"
     ]
    },
    {
     "data": {
      "text/plain": [
       "<__main__.Car at 0x1c0f7456ec0>"
      ]
     },
     "execution_count": 51,
     "metadata": {},
     "output_type": "execute_result"
    }
   ],
   "source": [
    "c1 = create_car('Toyota')\n",
    "print(c1)\n",
    "c1"
   ]
  },
  {
   "cell_type": "code",
   "execution_count": 52,
   "metadata": {},
   "outputs": [
    {
     "name": "stdout",
     "output_type": "stream",
     "text": [
      "Toyota\n"
     ]
    }
   ],
   "source": [
    "print(c1.make)"
   ]
  },
  {
   "cell_type": "code",
   "execution_count": 53,
   "metadata": {},
   "outputs": [
    {
     "name": "stdout",
     "output_type": "stream",
     "text": [
      "<__main__.Car object at 0x000001C0F74E5B70>\n",
      "Honda\n"
     ]
    }
   ],
   "source": [
    "c2 = create_car('Honda')\n",
    "print(c2)\n",
    "print(c2.make)"
   ]
  },
  {
   "cell_type": "markdown",
   "metadata": {},
   "source": [
    "##### The 'self' Attribute <br>\n",
    "<p>This attribute is required to keep track of specific instance's attributes. Without the self attribute, the program would not know how to reference or keep track of an instance's attributes.</p>"
   ]
  },
  {
   "cell_type": "code",
   "execution_count": 54,
   "metadata": {},
   "outputs": [
    {
     "name": "stdout",
     "output_type": "stream",
     "text": [
      "Help on method_descriptor:\n",
      "\n",
      "upper(self, /)\n",
      "    Return a copy of the string converted to uppercase.\n",
      "\n"
     ]
    }
   ],
   "source": [
    "help(str.upper) # Note the 'self' inside the parentheses of this method"
   ]
  },
  {
   "cell_type": "code",
   "execution_count": 55,
   "metadata": {},
   "outputs": [
    {
     "name": "stdout",
     "output_type": "stream",
     "text": [
      "BRIAN Stanton\n"
     ]
    }
   ],
   "source": [
    "name1 = 'Brian'\n",
    "name2 = 'Stanton'\n",
    "\n",
    "print(name1.upper(), name2)"
   ]
  },
  {
   "cell_type": "code",
   "execution_count": null,
   "metadata": {},
   "outputs": [],
   "source": [
    "str.upper(name1) == name1.upper()"
   ]
  },
  {
   "cell_type": "code",
   "execution_count": 57,
   "metadata": {},
   "outputs": [
    {
     "name": "stdout",
     "output_type": "stream",
     "text": [
      "Mickey Mouse\n",
      "<__main__.Student object at 0x000001C0F746F2B0>\n"
     ]
    }
   ],
   "source": [
    "class Student():\n",
    "    pass\n",
    "\n",
    "def create_student_like_init(student_instance, first, last):\n",
    "    student_instance.first_name = first\n",
    "    student_instance.last_name = last\n",
    "    return student_instance\n",
    "\n",
    "s1 = create_student_like_init(Student(), 'Mickey', 'Mouse')\n",
    "print(s1.first_name, s1.last_name)\n",
    "print(s1)"
   ]
  },
  {
   "cell_type": "code",
   "execution_count": 64,
   "metadata": {},
   "outputs": [
    {
     "name": "stdout",
     "output_type": "stream",
     "text": [
      "Hello this function is being executed because we are creating a new Student instance for you!\n",
      "Self: <__main__.Student object at 0x000001C0F74E6F50>\n",
      "<__main__.Student object at 0x000001C0F74E6F50>\n",
      "Donald Duck\n"
     ]
    }
   ],
   "source": [
    "class Student():\n",
    "    def __init__(self, first, last):\n",
    "        print('Hello this function is being executed because we are creating a new Student instance for you!')\n",
    "        print('Self:', self)\n",
    "        self.first_name = first\n",
    "        self.last_name = last\n",
    "        \n",
    "# Syntax for creating an instance:\n",
    "# instance_var = ClassName(arg1, arg2, etc)\n",
    "s2 = Student('Donald', 'Duck')\n",
    "print(s2)\n",
    "print(s2.first_name, s2.last_name)"
   ]
  },
  {
   "cell_type": "code",
   "execution_count": 66,
   "metadata": {},
   "outputs": [
    {
     "name": "stdout",
     "output_type": "stream",
     "text": [
      "Hello this function is being executed because we are creating a new Student instance for you!\n",
      "Self: <__main__.Student object at 0x000001C0F7457520>\n",
      "Bugs Bunny\n",
      "<__main__.Student object at 0x000001C0F7457520>\n"
     ]
    }
   ],
   "source": [
    "s3 = Student('Bugs', 'Bunny')\n",
    "print(s3.first_name, s3.last_name)\n",
    "print(s3)"
   ]
  },
  {
   "cell_type": "code",
   "execution_count": 84,
   "metadata": {},
   "outputs": [
    {
     "name": "stdout",
     "output_type": "stream",
     "text": [
      "Daffy\n",
      "daffy.duck@teacher.edu\n",
      "michael.jordan@teacher.edu\n"
     ]
    }
   ],
   "source": [
    "class Teacher:\n",
    "    def __init__(self, f, l):\n",
    "        # The __init__ method is called under the hood every time we create a new instance of a class\n",
    "        self.first_name = f\n",
    "        self.last_name = l\n",
    "        self.email = f.lower() + '.' + l.lower() + '@teacher.edu'\n",
    "        \n",
    "    def grade(self):\n",
    "        print(f'{self.first_name} {self.last_name} is grading homework')\n",
    "        \n",
    "t = Teacher('Daffy', 'Duck')\n",
    "print(t.first_name)\n",
    "print(t.email)\n",
    "t2 = Teacher('Michael', 'Jordan')\n",
    "print(t2.email)"
   ]
  },
  {
   "cell_type": "code",
   "execution_count": 83,
   "metadata": {},
   "outputs": [
    {
     "name": "stdout",
     "output_type": "stream",
     "text": [
      "Daffy Duck is grading homework\n",
      "Michael Jordan is grading homework\n"
     ]
    }
   ],
   "source": [
    "t.grade()\n",
    "t2.grade()"
   ]
  },
  {
   "cell_type": "code",
   "execution_count": 86,
   "metadata": {
    "scrolled": true
   },
   "outputs": [
    {
     "name": "stdout",
     "output_type": "stream",
     "text": [
      "Michael Jordan is grading homework\n"
     ]
    }
   ],
   "source": [
    "Teacher.grade(t2)"
   ]
  },
  {
   "cell_type": "code",
   "execution_count": null,
   "metadata": {},
   "outputs": [],
   "source": []
  },
  {
   "cell_type": "markdown",
   "metadata": {},
   "source": [
    "## Class Attributes <br>\n",
    "<p>While variables are inside of a class, they are referred to as attributes and not variables. When someone says 'attribute' you know they're speaking about a class. Attributes can be initialized through the init method, or outside of it.</p>"
   ]
  },
  {
   "cell_type": "markdown",
   "metadata": {},
   "source": [
    "##### Initializing Attributes"
   ]
  },
  {
   "cell_type": "code",
   "execution_count": 87,
   "metadata": {},
   "outputs": [],
   "source": [
    "class Truck:\n",
    "    wheels = 4 # Class Attribute\n",
    "    \n",
    "    def __init__(self, color, make):\n",
    "        self.color = color # Instance Attribute\n",
    "        self.make = make # Instance Attribute\n",
    "        \n",
    "        \n",
    "truck1 = Truck('green', 'Ford')\n",
    "truck2 = Truck('blue', 'Chevrolet')"
   ]
  },
  {
   "cell_type": "code",
   "execution_count": 89,
   "metadata": {},
   "outputs": [
    {
     "name": "stdout",
     "output_type": "stream",
     "text": [
      "{'color': 'green', 'make': 'Ford'}\n",
      "{'color': 'blue', 'make': 'Chevrolet'}\n"
     ]
    }
   ],
   "source": [
    "print(truck1.__dict__)\n",
    "print(truck2.__dict__)"
   ]
  },
  {
   "cell_type": "code",
   "execution_count": 93,
   "metadata": {
    "scrolled": true
   },
   "outputs": [
    {
     "name": "stdout",
     "output_type": "stream",
     "text": [
      "green\n",
      "Ford\n",
      "4\n"
     ]
    }
   ],
   "source": [
    "print(truck1.color)\n",
    "print(truck1.make)\n",
    "print(truck1.wheels)"
   ]
  },
  {
   "cell_type": "code",
   "execution_count": 96,
   "metadata": {},
   "outputs": [
    {
     "name": "stdout",
     "output_type": "stream",
     "text": [
      "{'__module__': '__main__', 'wheels': 4, '__init__': <function Truck.__init__ at 0x000001C0F8A508B0>, '__dict__': <attribute '__dict__' of 'Truck' objects>, '__weakref__': <attribute '__weakref__' of 'Truck' objects>, '__doc__': None}\n"
     ]
    }
   ],
   "source": [
    "print(Truck.__dict__)"
   ]
  },
  {
   "cell_type": "markdown",
   "metadata": {},
   "source": [
    "##### Accessing Class Attributes"
   ]
  },
  {
   "cell_type": "code",
   "execution_count": 97,
   "metadata": {
    "scrolled": true
   },
   "outputs": [
    {
     "name": "stdout",
     "output_type": "stream",
     "text": [
      "green\n",
      "Ford\n",
      "4\n"
     ]
    }
   ],
   "source": [
    "# You can access instance and class attributes from an instance of class, \n",
    "# but can only access class attributes from the class\n",
    "\n",
    "print(truck1.color) # Accessing instance attribute # OK\n",
    "print(truck1.make) # Accessing instance attribute # OK\n",
    "print(truck1.wheels) # Accessing class attribute # OK"
   ]
  },
  {
   "cell_type": "code",
   "execution_count": 100,
   "metadata": {},
   "outputs": [
    {
     "name": "stdout",
     "output_type": "stream",
     "text": [
      "4\n"
     ]
    }
   ],
   "source": [
    "print(Truck.wheels) # Accessing class attribute # OK\n",
    "# print(Truck.color) # Accessing instance attribute # NOT OK\n",
    "# print(Truck.make) # Accessing instance attribute # NOT OK"
   ]
  },
  {
   "cell_type": "markdown",
   "metadata": {},
   "source": [
    "##### Setting Defaults for Attributes"
   ]
  },
  {
   "cell_type": "code",
   "execution_count": 104,
   "metadata": {},
   "outputs": [
    {
     "name": "stdout",
     "output_type": "stream",
     "text": [
      "red Schwinn\n",
      "blue Giant\n"
     ]
    }
   ],
   "source": [
    "class Bike:\n",
    "    def __init__(self, color, brand='Schwinn'):\n",
    "        self.color = color\n",
    "        self.brand = brand\n",
    "        \n",
    "my_bike = Bike('red',) # Uses the default value, like a regular function\n",
    "print(my_bike.color, my_bike.brand) \n",
    "\n",
    "your_bike = Bike('blue', 'Giant') # Passed in a second argument this time, thus overriding the default argument\n",
    "print(your_bike.color, your_bike.brand)"
   ]
  },
  {
   "cell_type": "markdown",
   "metadata": {},
   "source": [
    "##### Changing Class Attributes <br>\n",
    "<p>Keep in mind there are global class attributes and then there are attributes only available to each class instance which won't effect other classes.</p>"
   ]
  },
  {
   "cell_type": "code",
   "execution_count": 123,
   "metadata": {},
   "outputs": [],
   "source": [
    "class Truck:\n",
    "    wheels = 4 # Class Attribute\n",
    "    \n",
    "    def __init__(self, color, make):\n",
    "        self.color = color # Instance Attribute\n",
    "        self.make = make # Instance Attribute"
   ]
  },
  {
   "cell_type": "code",
   "execution_count": 126,
   "metadata": {},
   "outputs": [
    {
     "name": "stdout",
     "output_type": "stream",
     "text": [
      "green\n"
     ]
    }
   ],
   "source": [
    "truck1 = Truck('green', 'Ford')\n",
    "truck2 = Truck('red', 'Toyota')\n",
    "print(truck1.color)"
   ]
  },
  {
   "cell_type": "code",
   "execution_count": 109,
   "metadata": {},
   "outputs": [
    {
     "name": "stdout",
     "output_type": "stream",
     "text": [
      "4\n",
      "4\n",
      "==================================================\n",
      "{'color': 'green', 'make': 'Ford'}\n",
      "{'color': 'red', 'make': 'Toyota'}\n",
      "==================================================\n",
      "{'__module__': '__main__', 'wheels': 4, '__init__': <function Truck.__init__ at 0x000001C0F8A525F0>, '__dict__': <attribute '__dict__' of 'Truck' objects>, '__weakref__': <attribute '__weakref__' of 'Truck' objects>, '__doc__': None}\n"
     ]
    }
   ],
   "source": [
    "print(truck1.wheels)\n",
    "print(truck2.wheels)\n",
    "print('='*50)\n",
    "print(truck1.__dict__)\n",
    "print(truck2.__dict__)\n",
    "print('='*50)\n",
    "print(Truck.__dict__)"
   ]
  },
  {
   "cell_type": "code",
   "execution_count": 111,
   "metadata": {
    "scrolled": true
   },
   "outputs": [
    {
     "name": "stdout",
     "output_type": "stream",
     "text": [
      "16\n",
      "4\n",
      "==================================================\n",
      "{'color': 'green', 'make': 'Ford', 'wheels': 16}\n",
      "{'color': 'red', 'make': 'Toyota'}\n",
      "==================================================\n",
      "{'__module__': '__main__', 'wheels': 4, '__init__': <function Truck.__init__ at 0x000001C0F8A525F0>, '__dict__': <attribute '__dict__' of 'Truck' objects>, '__weakref__': <attribute '__weakref__' of 'Truck' objects>, '__doc__': None}\n"
     ]
    }
   ],
   "source": [
    "truck1.wheels = 16 # set an instance Attribute on truck1 (an instance of Truck)\n",
    "print(truck1.wheels)\n",
    "print(truck2.wheels)\n",
    "print('='*50)\n",
    "print(truck1.__dict__)\n",
    "print(truck2.__dict__)\n",
    "print('='*50)\n",
    "print(Truck.__dict__)"
   ]
  },
  {
   "cell_type": "code",
   "execution_count": 112,
   "metadata": {
    "scrolled": false
   },
   "outputs": [
    {
     "name": "stdout",
     "output_type": "stream",
     "text": [
      "16\n",
      "24\n",
      "==================================================\n",
      "{'color': 'green', 'make': 'Ford', 'wheels': 16}\n",
      "{'color': 'red', 'make': 'Toyota'}\n",
      "==================================================\n",
      "{'__module__': '__main__', 'wheels': 24, '__init__': <function Truck.__init__ at 0x000001C0F8A525F0>, '__dict__': <attribute '__dict__' of 'Truck' objects>, '__weakref__': <attribute '__weakref__' of 'Truck' objects>, '__doc__': None}\n"
     ]
    }
   ],
   "source": [
    "Truck.wheels = 24 # Set a Class Attribute on Truck class\n",
    "print(truck1.wheels)\n",
    "print(truck2.wheels)\n",
    "print('='*50)\n",
    "print(truck1.__dict__)\n",
    "print(truck2.__dict__)\n",
    "print('='*50)\n",
    "print(Truck.__dict__)"
   ]
  },
  {
   "cell_type": "code",
   "execution_count": 114,
   "metadata": {},
   "outputs": [],
   "source": [
    "class Truck:\n",
    "    all_trucks = []\n",
    "    id_counter = 1\n",
    "    \n",
    "    def __init__(self, color):\n",
    "        self.color = color\n",
    "        self.id = Truck.id_counter\n",
    "        Truck.id_counter += 1\n",
    "        Truck.all_trucks.append(self)\n",
    "        \n",
    "truck1 = Truck('blue')\n",
    "truck2 = Truck('green')\n",
    "truck3 = Truck('red')"
   ]
  },
  {
   "cell_type": "code",
   "execution_count": 115,
   "metadata": {},
   "outputs": [
    {
     "name": "stdout",
     "output_type": "stream",
     "text": [
      "[<__main__.Truck object at 0x000001C0F76B9600>, <__main__.Truck object at 0x000001C0F776F310>, <__main__.Truck object at 0x000001C0F776C880>]\n"
     ]
    }
   ],
   "source": [
    "print(Truck.all_trucks)"
   ]
  },
  {
   "cell_type": "code",
   "execution_count": 118,
   "metadata": {},
   "outputs": [
    {
     "name": "stdout",
     "output_type": "stream",
     "text": [
      "1\n",
      "2\n",
      "3\n",
      "4\n"
     ]
    }
   ],
   "source": [
    "print(truck1.id)\n",
    "print(truck2.id)\n",
    "print(truck3.id)\n",
    "print(Truck.id_counter)"
   ]
  },
  {
   "cell_type": "markdown",
   "metadata": {},
   "source": [
    "##### In-Class Exercise 2 - Create an \\__init__ method for your Car class which takes in color and model with a default value for gas_level of 100. Your class should also have a class attribute for make. Once you have created the class, instantiate 3 different cars"
   ]
  },
  {
   "cell_type": "code",
   "execution_count": 146,
   "metadata": {},
   "outputs": [
    {
     "name": "stdout",
     "output_type": "stream",
     "text": [
      " Model: Stanton Car Inc. Color: Blue Make: Civic Gas_level: 100\n",
      " Model: Stanton Car Inc. Color: Red Make: CR-V Gas_level: 75\n",
      " Model: Stanton Car Inc. Color: Yellow Make: Accord Gas_level: 110\n"
     ]
    }
   ],
   "source": [
    "# Car class\n",
    " # Class Attribute - model\n",
    " # Instance Attributes - color, make, gas_level (default 100 for gas_level)\n",
    "\n",
    "class Car:\n",
    "    model = 'Honda'\n",
    "    \n",
    "    def __init__(self, color, make, gas_level=100):\n",
    "        self.color = color\n",
    "        self.make = make\n",
    "        self.gas_level = gas_level\n",
    "\n",
    "car1 = Car('Blue', 'Civic')\n",
    "car2 = Car('Red', 'CR-V', 75)\n",
    "car3 = Car('Yellow', 'Accord', 110)\n",
    "\n",
    "cars = [car1, car2, car3]\n",
    "\n",
    "# Honda gets bought by Stanton Car Inc\n",
    "Car.model = 'Stanton Car Inc.'\n",
    "\n",
    "for car in cars:\n",
    "    print(f' Model: {car.model} Color: {car.color} Make: {car.make} Gas_level: {car.gas_level}')"
   ]
  },
  {
   "cell_type": "markdown",
   "metadata": {},
   "source": [
    "## Class Methods <br>\n",
    "<p>While inside of a class, functions are referred to as 'methods'. If you hear someone mention methods, they're speaking about classes. Methods are essentially functions, but only callable on the instances of a class.</p>"
   ]
  },
  {
   "cell_type": "code",
   "execution_count": 147,
   "metadata": {},
   "outputs": [
    {
     "name": "stdout",
     "output_type": "stream",
     "text": [
      "Help on method_descriptor:\n",
      "\n",
      "append(self, object, /)\n",
      "    Append object to the end of the list.\n",
      "\n"
     ]
    }
   ],
   "source": [
    "help(list.append)"
   ]
  },
  {
   "cell_type": "code",
   "execution_count": 148,
   "metadata": {},
   "outputs": [
    {
     "name": "stdout",
     "output_type": "stream",
     "text": [
      "[1, 2, 3, 'Hello']\n"
     ]
    }
   ],
   "source": [
    "list_123 = [1, 2, 3]\n",
    "list_123.append('Hello')\n",
    "print(list_123)"
   ]
  },
  {
   "cell_type": "code",
   "execution_count": 149,
   "metadata": {},
   "outputs": [
    {
     "ename": "NameError",
     "evalue": "name 'append' is not defined",
     "output_type": "error",
     "traceback": [
      "\u001b[1;31m---------------------------------------------------------------------------\u001b[0m",
      "\u001b[1;31mNameError\u001b[0m                                 Traceback (most recent call last)",
      "Cell \u001b[1;32mIn[149], line 1\u001b[0m\n\u001b[1;32m----> 1\u001b[0m \u001b[43mappend\u001b[49m(\u001b[38;5;124m'\u001b[39m\u001b[38;5;124mGoodbye\u001b[39m\u001b[38;5;124m'\u001b[39m)\n",
      "\u001b[1;31mNameError\u001b[0m: name 'append' is not defined"
     ]
    }
   ],
   "source": [
    "append('Goodbye')"
   ]
  },
  {
   "cell_type": "code",
   "execution_count": 150,
   "metadata": {},
   "outputs": [
    {
     "name": "stdout",
     "output_type": "stream",
     "text": [
      "[1, 2, 3, 'Hello', 'Goodbye']\n"
     ]
    }
   ],
   "source": [
    "# Calling a method using dot notation from the instance is the equivalent to \n",
    "# calling the method from the class and passing in the instance as the first argument\n",
    "\n",
    "list.append(list_123, 'Goodbye')\n",
    "print(list_123)"
   ]
  },
  {
   "cell_type": "markdown",
   "metadata": {},
   "source": [
    "##### Creating"
   ]
  },
  {
   "cell_type": "code",
   "execution_count": 183,
   "metadata": {},
   "outputs": [],
   "source": [
    "# Syntax: class ClassName():\n",
    "#             def method_name(self, param1, param2, etc): # self will ALWAYS be the first parameter\n",
    "#                  <Code to execute when called>\n",
    "\n",
    "\n",
    "class Employee:\n",
    "    raise_amount = 1.10 # Class Attribute (10% raise)\n",
    "    \n",
    "    def __init__(self, first, last, salary):\n",
    "        self.first_name = first.title()\n",
    "        self.last_name = last.title()\n",
    "        self.salary = salary\n",
    "        self.email = first.lower() + last[0].lower() + '@coolcompany.com'\n",
    "        \n",
    "    def get_pay_stub(self): # Function inside of the class AKA method\n",
    "        amount = round(self.salary/24, 2)\n",
    "        print(f\"\"\"\n",
    "        Pay to the Order of: {self.first_name} {self.last_name}\n",
    "        Amount: ${amount}\n",
    "        \"\"\")\n",
    "    def change_last_name(self, new_last_name):\n",
    "        # Modify the last_name attribute on the employee instance with the new last name\n",
    "        self.last_name = new_last_name.title()\n",
    "        # Modify the email address with updated last_name\n",
    "        self.email = self.first_name.lower() + new_last_name[0].lower() + '@coolcompany.com'\n",
    "    def apply_raise(self):\n",
    "        self.salary = round(self.salary * Employee.raise_amount)\n",
    "        print(f'Congrats {self.first_name}, you have receieved a raise and your new salary is ${self.salary}')\n",
    "        \n",
    "\n",
    "emp_1 = Employee('George', 'Washington', 100000)\n",
    "emp_2 = Employee('Abraham', 'Lincoln', 50000)"
   ]
  },
  {
   "cell_type": "code",
   "execution_count": 154,
   "metadata": {},
   "outputs": [
    {
     "name": "stdout",
     "output_type": "stream",
     "text": [
      "\n",
      "    Pay to the Order of: George Washington\n",
      "    Amount: $4166.67\n",
      "    \n",
      "\n",
      "    Pay to the Order of: Abraham Lincoln\n",
      "    Amount: $2083.33\n",
      "    \n"
     ]
    }
   ],
   "source": [
    "# Function outside of the class\n",
    "\n",
    "def get_pay_stub(employee_instance):\n",
    "    amount = round(employee_instance.salary/24, 2)\n",
    "    print(f\"\"\"\n",
    "    Pay to the Order of: {employee_instance.first_name} {employee_instance.last_name}\n",
    "    Amount: ${amount}\n",
    "    \"\"\")\n",
    "    \n",
    "get_pay_stub(emp_1)\n",
    "get_pay_stub(emp_2)"
   ]
  },
  {
   "cell_type": "markdown",
   "metadata": {},
   "source": [
    "##### Calling"
   ]
  },
  {
   "cell_type": "code",
   "execution_count": 161,
   "metadata": {},
   "outputs": [
    {
     "name": "stdout",
     "output_type": "stream",
     "text": [
      "\n",
      "        Pay to the Order of: George Washington\n",
      "        Amount: $4166.67\n",
      "        \n",
      "\n",
      "        Pay to the Order of: Abraham Lincoln\n",
      "        Amount: $2083.33\n",
      "        \n"
     ]
    }
   ],
   "source": [
    "# Syntax: instance_var.method_name() OR instance_var.method_name(arg1, arg2, etc.)\n",
    "\n",
    "emp_1.get_pay_stub()\n",
    "emp_2.get_pay_stub()"
   ]
  },
  {
   "cell_type": "markdown",
   "metadata": {},
   "source": [
    "##### Modifying an Attribute's Value Through a Method"
   ]
  },
  {
   "cell_type": "code",
   "execution_count": 163,
   "metadata": {},
   "outputs": [
    {
     "name": "stdout",
     "output_type": "stream",
     "text": [
      "Before: George Washington georgew@coolcompany.com\n",
      "After: George Bush georgeb@coolcompany.com\n"
     ]
    }
   ],
   "source": [
    "# Function outside of class\n",
    "\n",
    "def change_last_name(employee_instance, new_last_name):\n",
    "    # Modify the last_name attribute on the employee instance with the new last name\n",
    "    employee_instance.last_name = new_last_name.title()\n",
    "    # Modify the email address with updated last_name\n",
    "    employee_instance.email = employee_instance.first_name.lower() + new_last_name[0].lower() + '@coolcompany.com'\n",
    "    \n",
    "print('Before:', emp_1.first_name, emp_1.last_name, emp_1.email)\n",
    "\n",
    "change_last_name(emp_1, 'Bush')\n",
    "\n",
    "print('After:', emp_1.first_name, emp_1.last_name, emp_1.email)"
   ]
  },
  {
   "cell_type": "code",
   "execution_count": 170,
   "metadata": {},
   "outputs": [
    {
     "name": "stdout",
     "output_type": "stream",
     "text": [
      "Before: Abraham Lincoln abrahaml@coolcompany.com\n",
      "After: Abraham Todd abrahamt@coolcompany.com\n"
     ]
    }
   ],
   "source": [
    "print('Before:', emp_2.first_name, emp_2.last_name, emp_2.email)\n",
    "\n",
    "emp_2.change_last_name('Todd')\n",
    "\n",
    "print('After:', emp_2.first_name, emp_2.last_name, emp_2.email)"
   ]
  },
  {
   "cell_type": "markdown",
   "metadata": {},
   "source": [
    "##### Incrementing an Attribute's Value Through a Method"
   ]
  },
  {
   "cell_type": "code",
   "execution_count": 177,
   "metadata": {},
   "outputs": [],
   "source": [
    "def apply_raise(emp_instance):\n",
    "    emp_instance.salary = round(emp_instance.salary * emp_instance.raise_amount)\n",
    "    print(f'Congrats {emp_instance.first_name}, you have receieved a raise and your new salary is ${emp_instance.salary}')"
   ]
  },
  {
   "cell_type": "code",
   "execution_count": 178,
   "metadata": {},
   "outputs": [
    {
     "name": "stdout",
     "output_type": "stream",
     "text": [
      "Congrats George, you have receieved a raise and your new salary is $110000\n"
     ]
    }
   ],
   "source": [
    "apply_raise(emp_1)"
   ]
  },
  {
   "cell_type": "code",
   "execution_count": 180,
   "metadata": {
    "scrolled": true
   },
   "outputs": [
    {
     "name": "stdout",
     "output_type": "stream",
     "text": [
      "Congrats Abraham, you have receieved a raise and your new salary is $55000\n"
     ]
    }
   ],
   "source": [
    "emp_2.apply_raise()"
   ]
  },
  {
   "cell_type": "code",
   "execution_count": 187,
   "metadata": {},
   "outputs": [
    {
     "name": "stdout",
     "output_type": "stream",
     "text": [
      "Congrats Abraham, you have receieved a raise and your new salary is $73205\n"
     ]
    }
   ],
   "source": [
    "# Set emp_2 raise amount to 1.20\n",
    "emp_2.raise_amount = 1.20\n",
    "\n",
    "# The apply_raise uses the class attribute .raise_amount and NOT the instance attribute .raise_amount\n",
    "emp_2.apply_raise()\n",
    "# Ran it a few times so it's 1.10 like 3 or 4 * the original salary"
   ]
  },
  {
   "cell_type": "markdown",
   "metadata": {},
   "source": [
    "##### In-Class Exercise #3 - Add two methods to your car class. One method called `drive` that will take in the number of miles and decrease that car's `gas_level` by 1 unit for every 5 miles. Another method called `fill_up` will take in gallons and increase the `gas_level` by 10 units for every gallon."
   ]
  },
  {
   "cell_type": "code",
   "execution_count": 203,
   "metadata": {},
   "outputs": [
    {
     "name": "stdout",
     "output_type": "stream",
     "text": [
      "After driving 100 miles, the Blue Honda Civic now has a gas level of 80\n",
      "After filling up with 5 gallons of gas, the Blue Honda Civic now has a gas level of 130\n",
      "After driving 50 miles, the Red Honda CR-V now has a gas level of 65\n",
      "After filling up with 3 gallons of gas, the Red Honda CR-V now has a gas level of 95\n",
      "After filling up with 1 gallons of gas, the Yellow Honda Accord now has a gas level of 120\n"
     ]
    }
   ],
   "source": [
    "# Car class\n",
    " # Class Attribute - model\n",
    " # Instance Attributes - color, make, gas_level (default 100 for gas_level)\n",
    "\n",
    "class Car:\n",
    "    model = 'Honda'\n",
    "    \n",
    "    def __init__(self, color, make, gas_level=100):\n",
    "        self.color = color\n",
    "        self.make = make\n",
    "        self.gas_level = gas_level\n",
    "        \n",
    "    def drive(self, miles):\n",
    "        unit_decrease = miles // 5\n",
    "        self.gas_level -= unit_decrease # self.gas_level = self.gas_level - unit_decrease\n",
    "        print(f'After driving {miles} miles, the {self.color} {self.model} {self.make} now has a gas level of {self.gas_level}')\n",
    "        \n",
    "    def fill_up(self, gallons):\n",
    "        unit_increase = gallons * 10\n",
    "        self.gas_level += unit_increase\n",
    "        print(f'After filling up with {gallons} gallons of gas, the {self.color} {self.model} {self.make} now has a gas level of {self.gas_level}')\n",
    "\n",
    "car1 = Car('Blue', 'Civic')\n",
    "car2 = Car('Red', 'CR-V', 75)\n",
    "car3 = Car('Yellow', 'Accord', 110)\n",
    "\n",
    "car1.drive(100)\n",
    "car1.fill_up(5)\n",
    "car2.drive(50)\n",
    "car2.fill_up(3)\n",
    "car3.fill_up(1)\n",
    "\n",
    "# car1.drive(100) # After driving 100 miles, the red honda CRV now has a gas level of 80\n",
    "# car2.fillup(5) # After filling up with 5 gallons of gas, the blue Honda Civic has a gas level of 200"
   ]
  },
  {
   "cell_type": "markdown",
   "metadata": {},
   "source": [
    "## Classes as Attributes <br>\n",
    "<p>Classes can also be used as attributes within another class. This is useful in situations where you need to keep variables locally stored, instead of globally stored.</p>"
   ]
  },
  {
   "cell_type": "code",
   "execution_count": 10,
   "metadata": {},
   "outputs": [],
   "source": [
    "class Album:\n",
    "    def __init__(self, title, artist, release_year):\n",
    "        self.title = title\n",
    "        self.artist = artist\n",
    "        self.release_year = release_year\n",
    "        self.track_list = []\n",
    "        \n",
    "    def add_song(self, song):\n",
    "        self.track_list.append(song)\n",
    "        print(f'{song.name} has been added to the album at position #{len(self.track_list)}')\n",
    "        \n",
    "    def play_album(self):\n",
    "        for song in self.track_list:\n",
    "            song.play()\n",
    "\n",
    "class Song:\n",
    "    def __init__(self, name, length):\n",
    "        self.name = name\n",
    "        self.length = length\n",
    "    \n",
    "    def play(self):\n",
    "        print(f\"{self.name} is playing for the next {self.length}...\")\n",
    "        \n",
    "\n",
    "class Band:\n",
    "    def __init__(self, name, members):\n",
    "        self.name = name\n",
    "        self.members = members"
   ]
  },
  {
   "cell_type": "code",
   "execution_count": 11,
   "metadata": {},
   "outputs": [],
   "source": [
    "# Create a band instance\n",
    "the_beatles = Band('The Beatles', ['John', 'Paul', 'George', 'Ringo'])"
   ]
  },
  {
   "cell_type": "code",
   "execution_count": 12,
   "metadata": {},
   "outputs": [],
   "source": [
    "# Create an Album instance\n",
    "abbey_road = Album('Abbey Road', the_beatles, 1969)"
   ]
  },
  {
   "cell_type": "code",
   "execution_count": 13,
   "metadata": {},
   "outputs": [],
   "source": [
    "# Create 3 song instances\n",
    "song1 = Song('Come Together', '4:19')\n",
    "song2 = Song('Something', '3:02')\n",
    "song3 = Song(\"Maxwell's Silver Hammer\", '3:27')"
   ]
  },
  {
   "cell_type": "code",
   "execution_count": 14,
   "metadata": {},
   "outputs": [
    {
     "name": "stdout",
     "output_type": "stream",
     "text": [
      "Come Together has been added to the album at position #1\n",
      "Something has been added to the album at position #2\n",
      "Maxwell's Silver Hammer has been added to the album at position #3\n"
     ]
    }
   ],
   "source": [
    "# Add songs to the album\n",
    "abbey_road.add_song(song1)\n",
    "abbey_road.add_song(song2)\n",
    "abbey_road.add_song(song3)"
   ]
  },
  {
   "cell_type": "code",
   "execution_count": 15,
   "metadata": {
    "scrolled": true
   },
   "outputs": [
    {
     "name": "stdout",
     "output_type": "stream",
     "text": [
      "Come Together is playing for the next 4:19...\n",
      "Something is playing for the next 3:02...\n",
      "Maxwell's Silver Hammer is playing for the next 3:27...\n"
     ]
    }
   ],
   "source": [
    "abbey_road.play_album()"
   ]
  },
  {
   "cell_type": "code",
   "execution_count": 16,
   "metadata": {
    "scrolled": true
   },
   "outputs": [
    {
     "name": "stdout",
     "output_type": "stream",
     "text": [
      "The Beatles\n",
      "['John', 'Paul', 'George', 'Ringo']\n"
     ]
    }
   ],
   "source": [
    "print(abbey_road.artist.name)\n",
    "print(abbey_road.artist.members)"
   ]
  },
  {
   "cell_type": "code",
   "execution_count": 19,
   "metadata": {},
   "outputs": [
    {
     "data": {
      "text/plain": [
       "'4:19'"
      ]
     },
     "execution_count": 19,
     "metadata": {},
     "output_type": "execute_result"
    }
   ],
   "source": [
    "abbey_road.track_list[0].length"
   ]
  },
  {
   "cell_type": "code",
   "execution_count": 215,
   "metadata": {},
   "outputs": [],
   "source": [
    "class User:\n",
    "    def __init__(self, username, email, password):\n",
    "        self.username = username\n",
    "        self.email = email\n",
    "        self.pw_hash = password[::-2]\n",
    "        \n",
    "    def check_password(self, pw_guess):\n",
    "        return self.pw_hash == pw_guess[::-2]\n",
    "    \n",
    "    \n",
    "class Post:\n",
    "    def __init__(self, title, body, author):\n",
    "        self.title = title\n",
    "        self.body = body\n",
    "        self.author = author\n",
    "        \n",
    "    def display_post(self):\n",
    "        print(f\"\"\"\n",
    "        {self.title} by {self.author.username}\n",
    "        {self.body}\n",
    "        Email the author at {self.author.email}\n",
    "        \"\"\")"
   ]
  },
  {
   "cell_type": "code",
   "execution_count": 216,
   "metadata": {
    "scrolled": true
   },
   "outputs": [
    {
     "name": "stdout",
     "output_type": "stream",
     "text": [
      "\n",
      "        First Post by brians\n",
      "        This is my very first post. I hope you like it.\n",
      "        Email the author at brains@codingtemple.com\n",
      "        \n"
     ]
    }
   ],
   "source": [
    "u = User('brians', 'brains@codingtemple.com', 'abc123')\n",
    "\n",
    "p = Post('First Post', 'This is my very first post. I hope you like it.', u)\n",
    "\n",
    "p.display_post()"
   ]
  },
  {
   "cell_type": "code",
   "execution_count": 219,
   "metadata": {},
   "outputs": [
    {
     "data": {
      "text/plain": [
       "False"
      ]
     },
     "execution_count": 219,
     "metadata": {},
     "output_type": "execute_result"
    }
   ],
   "source": [
    "p.author.check_password('abc123')"
   ]
  },
  {
   "cell_type": "markdown",
   "metadata": {},
   "source": [
    "# Exercises"
   ]
  },
  {
   "cell_type": "markdown",
   "metadata": {},
   "source": [
    "### Exercise 1 - Turn the shopping cart program into an object-oriented program"
   ]
  },
  {
   "cell_type": "code",
   "execution_count": null,
   "metadata": {},
   "outputs": [],
   "source": []
  },
  {
   "cell_type": "code",
   "execution_count": null,
   "metadata": {},
   "outputs": [],
   "source": []
  },
  {
   "cell_type": "code",
   "execution_count": null,
   "metadata": {},
   "outputs": [
    {
     "name": "stdout",
     "output_type": "stream",
     "text": [
      "\n",
      "What would you like to do?\n",
      "(Add / Remove / View / Clear / Quit)\n",
      "\tadd\n",
      "What would you like to add to your cart? apples\n",
      "Apples has been added to your shopping cart.\n",
      "Current Cart:\n",
      "\t ['apples']\n",
      "\n",
      "What would you like to do?\n",
      "(Add / Remove / View / Clear / Quit)\n",
      "\tadd\n",
      "What would you like to add to your cart? bananas\n"
     ]
    }
   ],
   "source": [
    "# Create a class called cart that retains items and has methods to add, remove, and show\n",
    "\n",
    "class Cart():\n",
    "    def __init__(self):\n",
    "        self.shopping_list = []\n",
    "    \n",
    "    def add_to_cart(self, item_to_add):\n",
    "        self.shopping_list.append(item_to_add)\n",
    "        print(f\"{item_to_add.title()} has been added to your shopping cart.\")\n",
    "        print(f\"Current Cart:\\n\\t {self.shopping_list}\")\n",
    "    \n",
    "    def remove_from_cart(self, item_to_remove):\n",
    "        self.shopping_list.remove(item_to_remove)\n",
    "        print(f\"{item_to_remove.title()} has been removed from your shopping cart.\")\n",
    "        print(f\"Current Cart:\\n\\t {self.shopping_list}\")\n",
    "        \n",
    "    def show_items(self):\n",
    "        print('Here is what is currently in your cart:\\n\\t')\n",
    "        print(self.shopping_list)\n",
    "        \n",
    "    def clear_cart(self):\n",
    "        self.shopping_list.clear()\n",
    "        print('\\nYour cart has been cleared!')\n",
    "        \n",
    "        \n",
    "def shopping():\n",
    "    cart = Cart()\n",
    "    active = True\n",
    "    potential_responses = {'add', 'remove', 'view', 'clear', 'quit'}\n",
    "    while active:\n",
    "        initial = input('\\nWhat would you like to do?\\n(Add / Remove / View / Clear / Quit)\\n\\t').lower()\n",
    "        \n",
    "        if initial == 'quit':\n",
    "            print('Here is your receipt:\\n')\n",
    "            print(cart.shopping_list)\n",
    "            print('\\nThank you for shopping with us!')\n",
    "            active = False\n",
    "        elif initial not in potential_responses: \n",
    "            print('Sorry, but that is not a valid response.')\n",
    "        elif initial == 'add':\n",
    "            item_to_add = input('What would you like to add to your cart? ')\n",
    "            cart.add_to_cart(item_to_add)\n",
    "        elif initial == 'remove':\n",
    "            item_to_remove = input('What would you like to remove from your cart? ')\n",
    "            cart.remove_from_cart(item_to_remove)\n",
    "        elif initial == 'view':\n",
    "            cart.show_items()\n",
    "        elif initial == 'clear':\n",
    "            cart.clear_cart()\n",
    "            \n",
    "shopping()"
   ]
  },
  {
   "cell_type": "code",
   "execution_count": null,
   "metadata": {},
   "outputs": [],
   "source": []
  },
  {
   "cell_type": "markdown",
   "metadata": {},
   "source": [
    "### Exercise 2 - Write a Python class for an Animal that has a name and energy attributes. The animal class should also have methods for eat, sleep, and play that will take in an integer and increase/decrease the energy of the animal with a formatted print statement"
   ]
  },
  {
   "cell_type": "code",
   "execution_count": null,
   "metadata": {},
   "outputs": [],
   "source": [
    "# Example 1\n",
    "# buddy = Animal('Buddy', 10)\n",
    "# buddy.play(5) -> \"Buddy is playing for 5 minutes. His energy is now 5\"\n",
    "# buddy.sleep(10) -> \"Buddy is sleeping for 5 minutes. His energy is now 15\""
   ]
  },
  {
   "cell_type": "code",
   "execution_count": 228,
   "metadata": {},
   "outputs": [
    {
     "name": "stdout",
     "output_type": "stream",
     "text": [
      "Penny consumed 3 pieces of food. Their energy level has increased to 109.\n",
      "Penny slept for 8 hours. Their energy level has increased to 189.\n",
      "Penny played for 5 hours. Their energy level has decreased to 139.\n",
      "Abraham slept for 8 hours. Their energy level has increased to 180.\n",
      "Abraham consumed 5 pieces of food. Their energy level has increased to 195.\n",
      "Abraham played for 15 hours. Their energy level has decreased to 45.\n"
     ]
    }
   ],
   "source": [
    "class Cat:\n",
    "    \n",
    "    def __init__(self, name, energy_level):\n",
    "        self.name = name\n",
    "        self.energy_level = energy_level\n",
    "        \n",
    "    def eat(self, quantity_of_food):\n",
    "        energy_increase = quantity_of_food * 3\n",
    "        self.energy_level += energy_increase\n",
    "        print(f\"{self.name} consumed {quantity_of_food} pieces of food. Their energy level has increased to {self.energy_level}.\")\n",
    "    \n",
    "    def sleep(self, hours_of_sleep):\n",
    "        energy_increase = hours_of_sleep * 10\n",
    "        self.energy_level += energy_increase\n",
    "        print(f\"{self.name} slept for {hours_of_sleep} hours. Their energy level has increased to {self.energy_level}.\")\n",
    "    \n",
    "    def play(self, hours_played):\n",
    "        energy_decrease = hours_played * 10\n",
    "        self.energy_level -= energy_decrease\n",
    "        print(f\"{self.name} played for {hours_played} hours. Their energy level has decreased to {self.energy_level}.\")\n",
    "\n",
    "        \n",
    "cat1 = Cat('Penny', 100)\n",
    "cat2 = Cat('Abraham', 100)\n",
    "\n",
    "cat1.eat(3)\n",
    "cat1.sleep(8)\n",
    "cat1.play(5)\n",
    "cat2.sleep(8)\n",
    "cat2.eat(5)\n",
    "cat2.play(15)"
   ]
  }
 ],
 "metadata": {
  "kernelspec": {
   "display_name": "Python 3 (ipykernel)",
   "language": "python",
   "name": "python3"
  },
  "language_info": {
   "codemirror_mode": {
    "name": "ipython",
    "version": 3
   },
   "file_extension": ".py",
   "mimetype": "text/x-python",
   "name": "python",
   "nbconvert_exporter": "python",
   "pygments_lexer": "ipython3",
   "version": "3.10.9"
  }
 },
 "nbformat": 4,
 "nbformat_minor": 2
}
